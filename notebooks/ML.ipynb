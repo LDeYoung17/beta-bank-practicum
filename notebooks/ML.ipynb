{
 "cells": [
  {
   "attachments": {},
   "cell_type": "markdown",
   "metadata": {},
   "source": [
    "<h1>Introduction</h1>\n",
    "Beta Bank is trying to prevent the loss of current customers in order to save money. This project creates a machine learning model that will help predict the loss of current customers based upon the data that has been provided."
   ]
  },
  {
   "attachments": {},
   "cell_type": "markdown",
   "metadata": {},
   "source": [
    "Import statements necessary for this project"
   ]
  },
  {
   "cell_type": "code",
   "execution_count": 892,
   "metadata": {},
   "outputs": [],
   "source": [
    "import pandas as pd\n",
    "import matplotlib.pyplot as plt\n",
    "from sklearn.preprocessing import StandardScaler\n",
    "from sklearn.model_selection import train_test_split\n",
    "from sklearn.linear_model import LogisticRegression\n",
    "from sklearn.tree import DecisionTreeClassifier\n",
    "from sklearn.ensemble import RandomForestClassifier\n",
    "from sklearn.metrics import accuracy_score\n",
    "from sklearn.metrics import confusion_matrix\n",
    "from sklearn.metrics import f1_score\n",
    "from sklearn.utils import shuffle\n",
    "from sklearn.metrics import roc_auc_score \n",
    "from sklearn.metrics import roc_curve\n"
   ]
  },
  {
   "attachments": {},
   "cell_type": "markdown",
   "metadata": {},
   "source": [
    "Importing the data"
   ]
  },
  {
   "cell_type": "code",
   "execution_count": 893,
   "metadata": {},
   "outputs": [],
   "source": [
    "churn_data = pd.read_csv('/Users/leahdeyoung/Desktop/GitHub/beta-bank-practicum/Churn.csv', encoding = \"utf-8\")\n"
   ]
  },
  {
   "attachments": {},
   "cell_type": "markdown",
   "metadata": {},
   "source": [
    "This code looks at a sample of the data and basic information about the data"
   ]
  },
  {
   "cell_type": "code",
   "execution_count": 894,
   "metadata": {},
   "outputs": [
    {
     "data": {
      "text/html": [
       "<div>\n",
       "<style scoped>\n",
       "    .dataframe tbody tr th:only-of-type {\n",
       "        vertical-align: middle;\n",
       "    }\n",
       "\n",
       "    .dataframe tbody tr th {\n",
       "        vertical-align: top;\n",
       "    }\n",
       "\n",
       "    .dataframe thead th {\n",
       "        text-align: right;\n",
       "    }\n",
       "</style>\n",
       "<table border=\"1\" class=\"dataframe\">\n",
       "  <thead>\n",
       "    <tr style=\"text-align: right;\">\n",
       "      <th></th>\n",
       "      <th>RowNumber</th>\n",
       "      <th>CustomerId</th>\n",
       "      <th>Surname</th>\n",
       "      <th>CreditScore</th>\n",
       "      <th>Geography</th>\n",
       "      <th>Gender</th>\n",
       "      <th>Age</th>\n",
       "      <th>Tenure</th>\n",
       "      <th>Balance</th>\n",
       "      <th>NumOfProducts</th>\n",
       "      <th>HasCrCard</th>\n",
       "      <th>IsActiveMember</th>\n",
       "      <th>EstimatedSalary</th>\n",
       "      <th>Exited</th>\n",
       "    </tr>\n",
       "  </thead>\n",
       "  <tbody>\n",
       "    <tr>\n",
       "      <th>8814</th>\n",
       "      <td>8815</td>\n",
       "      <td>15589725</td>\n",
       "      <td>Zubarev</td>\n",
       "      <td>740</td>\n",
       "      <td>France</td>\n",
       "      <td>Female</td>\n",
       "      <td>51</td>\n",
       "      <td>NaN</td>\n",
       "      <td>0.00</td>\n",
       "      <td>2</td>\n",
       "      <td>1</td>\n",
       "      <td>1</td>\n",
       "      <td>178929.84</td>\n",
       "      <td>0</td>\n",
       "    </tr>\n",
       "    <tr>\n",
       "      <th>654</th>\n",
       "      <td>655</td>\n",
       "      <td>15751710</td>\n",
       "      <td>Ginikanwa</td>\n",
       "      <td>729</td>\n",
       "      <td>Spain</td>\n",
       "      <td>Male</td>\n",
       "      <td>31</td>\n",
       "      <td>8.0</td>\n",
       "      <td>164870.81</td>\n",
       "      <td>2</td>\n",
       "      <td>1</td>\n",
       "      <td>1</td>\n",
       "      <td>9567.39</td>\n",
       "      <td>0</td>\n",
       "    </tr>\n",
       "    <tr>\n",
       "      <th>4400</th>\n",
       "      <td>4401</td>\n",
       "      <td>15567063</td>\n",
       "      <td>Manna</td>\n",
       "      <td>766</td>\n",
       "      <td>Germany</td>\n",
       "      <td>Female</td>\n",
       "      <td>34</td>\n",
       "      <td>6.0</td>\n",
       "      <td>106434.94</td>\n",
       "      <td>1</td>\n",
       "      <td>0</td>\n",
       "      <td>1</td>\n",
       "      <td>137995.66</td>\n",
       "      <td>1</td>\n",
       "    </tr>\n",
       "    <tr>\n",
       "      <th>636</th>\n",
       "      <td>637</td>\n",
       "      <td>15603323</td>\n",
       "      <td>Bell</td>\n",
       "      <td>660</td>\n",
       "      <td>Spain</td>\n",
       "      <td>Female</td>\n",
       "      <td>33</td>\n",
       "      <td>1.0</td>\n",
       "      <td>0.00</td>\n",
       "      <td>2</td>\n",
       "      <td>0</td>\n",
       "      <td>0</td>\n",
       "      <td>117834.91</td>\n",
       "      <td>0</td>\n",
       "    </tr>\n",
       "    <tr>\n",
       "      <th>879</th>\n",
       "      <td>880</td>\n",
       "      <td>15697497</td>\n",
       "      <td>She</td>\n",
       "      <td>518</td>\n",
       "      <td>France</td>\n",
       "      <td>Female</td>\n",
       "      <td>45</td>\n",
       "      <td>NaN</td>\n",
       "      <td>105525.65</td>\n",
       "      <td>2</td>\n",
       "      <td>1</td>\n",
       "      <td>1</td>\n",
       "      <td>73418.29</td>\n",
       "      <td>0</td>\n",
       "    </tr>\n",
       "    <tr>\n",
       "      <th>1191</th>\n",
       "      <td>1192</td>\n",
       "      <td>15686909</td>\n",
       "      <td>Lung</td>\n",
       "      <td>639</td>\n",
       "      <td>Germany</td>\n",
       "      <td>Male</td>\n",
       "      <td>27</td>\n",
       "      <td>3.0</td>\n",
       "      <td>150795.81</td>\n",
       "      <td>1</td>\n",
       "      <td>0</td>\n",
       "      <td>1</td>\n",
       "      <td>85208.93</td>\n",
       "      <td>0</td>\n",
       "    </tr>\n",
       "    <tr>\n",
       "      <th>3539</th>\n",
       "      <td>3540</td>\n",
       "      <td>15761453</td>\n",
       "      <td>Kovalev</td>\n",
       "      <td>667</td>\n",
       "      <td>France</td>\n",
       "      <td>Male</td>\n",
       "      <td>42</td>\n",
       "      <td>6.0</td>\n",
       "      <td>0.00</td>\n",
       "      <td>1</td>\n",
       "      <td>1</td>\n",
       "      <td>0</td>\n",
       "      <td>88890.05</td>\n",
       "      <td>0</td>\n",
       "    </tr>\n",
       "    <tr>\n",
       "      <th>6194</th>\n",
       "      <td>6195</td>\n",
       "      <td>15794273</td>\n",
       "      <td>Hand</td>\n",
       "      <td>604</td>\n",
       "      <td>France</td>\n",
       "      <td>Female</td>\n",
       "      <td>56</td>\n",
       "      <td>0.0</td>\n",
       "      <td>62732.65</td>\n",
       "      <td>1</td>\n",
       "      <td>0</td>\n",
       "      <td>1</td>\n",
       "      <td>124954.56</td>\n",
       "      <td>0</td>\n",
       "    </tr>\n",
       "    <tr>\n",
       "      <th>4576</th>\n",
       "      <td>4577</td>\n",
       "      <td>15770984</td>\n",
       "      <td>Fanucci</td>\n",
       "      <td>697</td>\n",
       "      <td>Spain</td>\n",
       "      <td>Female</td>\n",
       "      <td>40</td>\n",
       "      <td>7.0</td>\n",
       "      <td>130334.35</td>\n",
       "      <td>2</td>\n",
       "      <td>0</td>\n",
       "      <td>1</td>\n",
       "      <td>116951.10</td>\n",
       "      <td>0</td>\n",
       "    </tr>\n",
       "    <tr>\n",
       "      <th>3578</th>\n",
       "      <td>3579</td>\n",
       "      <td>15711618</td>\n",
       "      <td>Chang</td>\n",
       "      <td>704</td>\n",
       "      <td>Germany</td>\n",
       "      <td>Female</td>\n",
       "      <td>39</td>\n",
       "      <td>1.0</td>\n",
       "      <td>124640.51</td>\n",
       "      <td>1</td>\n",
       "      <td>1</td>\n",
       "      <td>0</td>\n",
       "      <td>116511.12</td>\n",
       "      <td>1</td>\n",
       "    </tr>\n",
       "  </tbody>\n",
       "</table>\n",
       "</div>"
      ],
      "text/plain": [
       "      RowNumber  CustomerId    Surname  CreditScore Geography  Gender  Age  \\\n",
       "8814       8815    15589725    Zubarev          740    France  Female   51   \n",
       "654         655    15751710  Ginikanwa          729     Spain    Male   31   \n",
       "4400       4401    15567063      Manna          766   Germany  Female   34   \n",
       "636         637    15603323       Bell          660     Spain  Female   33   \n",
       "879         880    15697497        She          518    France  Female   45   \n",
       "1191       1192    15686909       Lung          639   Germany    Male   27   \n",
       "3539       3540    15761453    Kovalev          667    France    Male   42   \n",
       "6194       6195    15794273       Hand          604    France  Female   56   \n",
       "4576       4577    15770984    Fanucci          697     Spain  Female   40   \n",
       "3578       3579    15711618      Chang          704   Germany  Female   39   \n",
       "\n",
       "      Tenure    Balance  NumOfProducts  HasCrCard  IsActiveMember  \\\n",
       "8814     NaN       0.00              2          1               1   \n",
       "654      8.0  164870.81              2          1               1   \n",
       "4400     6.0  106434.94              1          0               1   \n",
       "636      1.0       0.00              2          0               0   \n",
       "879      NaN  105525.65              2          1               1   \n",
       "1191     3.0  150795.81              1          0               1   \n",
       "3539     6.0       0.00              1          1               0   \n",
       "6194     0.0   62732.65              1          0               1   \n",
       "4576     7.0  130334.35              2          0               1   \n",
       "3578     1.0  124640.51              1          1               0   \n",
       "\n",
       "      EstimatedSalary  Exited  \n",
       "8814        178929.84       0  \n",
       "654           9567.39       0  \n",
       "4400        137995.66       1  \n",
       "636         117834.91       0  \n",
       "879          73418.29       0  \n",
       "1191         85208.93       0  \n",
       "3539         88890.05       0  \n",
       "6194        124954.56       0  \n",
       "4576        116951.10       0  \n",
       "3578        116511.12       1  "
      ]
     },
     "metadata": {},
     "output_type": "display_data"
    },
    {
     "name": "stdout",
     "output_type": "stream",
     "text": [
      "<class 'pandas.core.frame.DataFrame'>\n",
      "RangeIndex: 10000 entries, 0 to 9999\n",
      "Data columns (total 14 columns):\n",
      " #   Column           Non-Null Count  Dtype  \n",
      "---  ------           --------------  -----  \n",
      " 0   RowNumber        10000 non-null  int64  \n",
      " 1   CustomerId       10000 non-null  int64  \n",
      " 2   Surname          10000 non-null  object \n",
      " 3   CreditScore      10000 non-null  int64  \n",
      " 4   Geography        10000 non-null  object \n",
      " 5   Gender           10000 non-null  object \n",
      " 6   Age              10000 non-null  int64  \n",
      " 7   Tenure           9091 non-null   float64\n",
      " 8   Balance          10000 non-null  float64\n",
      " 9   NumOfProducts    10000 non-null  int64  \n",
      " 10  HasCrCard        10000 non-null  int64  \n",
      " 11  IsActiveMember   10000 non-null  int64  \n",
      " 12  EstimatedSalary  10000 non-null  float64\n",
      " 13  Exited           10000 non-null  int64  \n",
      "dtypes: float64(3), int64(8), object(3)\n",
      "memory usage: 1.1+ MB\n"
     ]
    }
   ],
   "source": [
    "display(churn_data.sample(10))\n",
    "churn_data.info()"
   ]
  },
  {
   "attachments": {},
   "cell_type": "markdown",
   "metadata": {},
   "source": [
    "<h2>Data Preprocessing</h2>"
   ]
  },
  {
   "attachments": {},
   "cell_type": "markdown",
   "metadata": {},
   "source": [
    "This code checks for duplicate rows"
   ]
  },
  {
   "cell_type": "code",
   "execution_count": 895,
   "metadata": {},
   "outputs": [
    {
     "name": "stdout",
     "output_type": "stream",
     "text": [
      "0\n"
     ]
    }
   ],
   "source": [
    "print(churn_data.duplicated().sum())"
   ]
  },
  {
   "attachments": {},
   "cell_type": "markdown",
   "metadata": {},
   "source": [
    "This code renames the columns in the standard format. First the columns are all changed to lowercase, then snake case is added where needed"
   ]
  },
  {
   "cell_type": "code",
   "execution_count": 896,
   "metadata": {},
   "outputs": [
    {
     "name": "stdout",
     "output_type": "stream",
     "text": [
      "Index(['row_number', 'customer_id', 'surname', 'credit_score', 'geography',\n",
      "       'gender', 'age', 'tenure', 'balance', 'num_of_products', 'has_cr_card',\n",
      "       'is_active_member', 'estimated_salary', 'exited'],\n",
      "      dtype='object')\n"
     ]
    }
   ],
   "source": [
    "churn_data.columns = churn_data.columns.str.lower()\n",
    "churn_data = churn_data.rename(columns={\n",
    "    'rownumber': 'row_number', \n",
    "    'customerid': 'customer_id',\n",
    "    'creditscore': 'credit_score',\n",
    "    'numofproducts': 'num_of_products',\n",
    "    'hascrcard': 'has_cr_card',\n",
    "    'isactivemember': 'is_active_member',\n",
    "    'estimatedsalary': 'estimated_salary',\n",
    "})\n",
    "print(churn_data.columns)"
   ]
  },
  {
   "attachments": {},
   "cell_type": "markdown",
   "metadata": {},
   "source": [
    "This code checks for duplicate customers, first by customer ID, then by name. After finding many duplicate names, I checked for a combination of factors that might indicate that the customer is in fact a duplicate. After checking all these factors, I am still unsure that any of these customers are actually duplicates and so I have left them alone."
   ]
  },
  {
   "cell_type": "code",
   "execution_count": 897,
   "metadata": {},
   "outputs": [
    {
     "name": "stdout",
     "output_type": "stream",
     "text": [
      "0\n",
      "7069\n",
      "596\n",
      "241\n",
      "2\n",
      "0\n"
     ]
    }
   ],
   "source": [
    "print(churn_data['customer_id'].duplicated().sum())\n",
    "churn_data['surname_lowercase'] = churn_data['surname'].str.lower()\n",
    "\n",
    "print(churn_data['surname_lowercase'].duplicated().sum())\n",
    "print(churn_data.duplicated(subset=['surname_lowercase', 'gender', 'age']).sum())\n",
    "print(churn_data.duplicated(subset=['surname_lowercase', 'gender', 'age', 'geography']).sum())\n",
    "print(churn_data.duplicated(subset=['surname_lowercase', 'gender', 'age', 'geography', 'credit_score']).sum())\n",
    "print(churn_data.duplicated(subset=['surname_lowercase', 'gender', 'age', 'geography', 'credit_score', 'estimated_salary']).sum())\n",
    "\n",
    "churn_data.drop(['surname_lowercase'], axis=1, inplace=True)\n",
    "\n",
    "\n",
    "\n",
    "\n",
    "\n"
   ]
  },
  {
   "attachments": {},
   "cell_type": "markdown",
   "metadata": {},
   "source": [
    "This code checks for missing values in the only field that has missing values: tenure. I checked to see that any field that is missing tenure is also not an active customer, then if the customer is not active, added \"0.0\" to the tenure column. This addressed any missing values."
   ]
  },
  {
   "cell_type": "code",
   "execution_count": 898,
   "metadata": {},
   "outputs": [
    {
     "name": "stdout",
     "output_type": "stream",
     "text": [
      "False    9091\n",
      "True      909\n",
      "Name: tenure, dtype: int64\n",
      "row_number          445\n",
      "customer_id         445\n",
      "surname             445\n",
      "credit_score        445\n",
      "geography           445\n",
      "gender              445\n",
      "age                 445\n",
      "tenure                0\n",
      "balance             445\n",
      "num_of_products     445\n",
      "has_cr_card         445\n",
      "is_active_member    445\n",
      "estimated_salary    445\n",
      "exited              445\n",
      "dtype: int64\n",
      "\n",
      "row_number          0\n",
      "customer_id         0\n",
      "surname             0\n",
      "credit_score        0\n",
      "geography           0\n",
      "gender              0\n",
      "age                 0\n",
      "tenure              0\n",
      "balance             0\n",
      "num_of_products     0\n",
      "has_cr_card         0\n",
      "is_active_member    0\n",
      "estimated_salary    0\n",
      "exited              0\n",
      "dtype: int64\n",
      "False    10000\n",
      "Name: tenure, dtype: int64\n"
     ]
    }
   ],
   "source": [
    "print(churn_data['tenure'].isna().value_counts())\n",
    "print(churn_data.query(\"tenure.isna() & is_active_member == 0\").count())\n",
    "churn_data['tenure'] = churn_data['tenure'].where((churn_data['tenure'].notna() & churn_data['is_active_member'] == 1) , 0.0) \n",
    "print()\n",
    "\n",
    "print(churn_data.query(\"tenure.isna() & is_active_member == 0\").count())\n",
    "print(churn_data['tenure'].isna().value_counts())\n",
    "churn_data['tenure'] = pd.to_numeric(churn_data['tenure'], errors='coerce')\n",
    "\n"
   ]
  },
  {
   "attachments": {},
   "cell_type": "markdown",
   "metadata": {},
   "source": [
    "This code again displays a sample of the data and info about the data to verify everything looks correct after preprocessing"
   ]
  },
  {
   "cell_type": "code",
   "execution_count": 899,
   "metadata": {},
   "outputs": [
    {
     "data": {
      "text/html": [
       "<div>\n",
       "<style scoped>\n",
       "    .dataframe tbody tr th:only-of-type {\n",
       "        vertical-align: middle;\n",
       "    }\n",
       "\n",
       "    .dataframe tbody tr th {\n",
       "        vertical-align: top;\n",
       "    }\n",
       "\n",
       "    .dataframe thead th {\n",
       "        text-align: right;\n",
       "    }\n",
       "</style>\n",
       "<table border=\"1\" class=\"dataframe\">\n",
       "  <thead>\n",
       "    <tr style=\"text-align: right;\">\n",
       "      <th></th>\n",
       "      <th>row_number</th>\n",
       "      <th>customer_id</th>\n",
       "      <th>surname</th>\n",
       "      <th>credit_score</th>\n",
       "      <th>geography</th>\n",
       "      <th>gender</th>\n",
       "      <th>age</th>\n",
       "      <th>tenure</th>\n",
       "      <th>balance</th>\n",
       "      <th>num_of_products</th>\n",
       "      <th>has_cr_card</th>\n",
       "      <th>is_active_member</th>\n",
       "      <th>estimated_salary</th>\n",
       "      <th>exited</th>\n",
       "    </tr>\n",
       "  </thead>\n",
       "  <tbody>\n",
       "    <tr>\n",
       "      <th>8073</th>\n",
       "      <td>8074</td>\n",
       "      <td>15601030</td>\n",
       "      <td>Patel</td>\n",
       "      <td>777</td>\n",
       "      <td>Germany</td>\n",
       "      <td>Female</td>\n",
       "      <td>34</td>\n",
       "      <td>5.0</td>\n",
       "      <td>96693.66</td>\n",
       "      <td>1</td>\n",
       "      <td>1</td>\n",
       "      <td>1</td>\n",
       "      <td>172618.52</td>\n",
       "      <td>0</td>\n",
       "    </tr>\n",
       "    <tr>\n",
       "      <th>8927</th>\n",
       "      <td>8928</td>\n",
       "      <td>15801605</td>\n",
       "      <td>Rizzo</td>\n",
       "      <td>626</td>\n",
       "      <td>France</td>\n",
       "      <td>Female</td>\n",
       "      <td>39</td>\n",
       "      <td>0.0</td>\n",
       "      <td>0.00</td>\n",
       "      <td>2</td>\n",
       "      <td>1</td>\n",
       "      <td>1</td>\n",
       "      <td>83295.09</td>\n",
       "      <td>0</td>\n",
       "    </tr>\n",
       "    <tr>\n",
       "      <th>2754</th>\n",
       "      <td>2755</td>\n",
       "      <td>15579647</td>\n",
       "      <td>Oluchukwu</td>\n",
       "      <td>682</td>\n",
       "      <td>France</td>\n",
       "      <td>Male</td>\n",
       "      <td>42</td>\n",
       "      <td>0.0</td>\n",
       "      <td>0.00</td>\n",
       "      <td>1</td>\n",
       "      <td>1</td>\n",
       "      <td>1</td>\n",
       "      <td>160828.98</td>\n",
       "      <td>0</td>\n",
       "    </tr>\n",
       "    <tr>\n",
       "      <th>5868</th>\n",
       "      <td>5869</td>\n",
       "      <td>15663817</td>\n",
       "      <td>Y?an</td>\n",
       "      <td>713</td>\n",
       "      <td>France</td>\n",
       "      <td>Male</td>\n",
       "      <td>46</td>\n",
       "      <td>5.0</td>\n",
       "      <td>0.00</td>\n",
       "      <td>1</td>\n",
       "      <td>1</td>\n",
       "      <td>1</td>\n",
       "      <td>55701.62</td>\n",
       "      <td>0</td>\n",
       "    </tr>\n",
       "    <tr>\n",
       "      <th>3254</th>\n",
       "      <td>3255</td>\n",
       "      <td>15778368</td>\n",
       "      <td>Allan</td>\n",
       "      <td>552</td>\n",
       "      <td>Germany</td>\n",
       "      <td>Male</td>\n",
       "      <td>50</td>\n",
       "      <td>0.0</td>\n",
       "      <td>121175.56</td>\n",
       "      <td>1</td>\n",
       "      <td>1</td>\n",
       "      <td>0</td>\n",
       "      <td>117505.07</td>\n",
       "      <td>1</td>\n",
       "    </tr>\n",
       "    <tr>\n",
       "      <th>730</th>\n",
       "      <td>731</td>\n",
       "      <td>15812750</td>\n",
       "      <td>Ozioma</td>\n",
       "      <td>591</td>\n",
       "      <td>France</td>\n",
       "      <td>Male</td>\n",
       "      <td>24</td>\n",
       "      <td>6.0</td>\n",
       "      <td>147360.00</td>\n",
       "      <td>1</td>\n",
       "      <td>1</td>\n",
       "      <td>1</td>\n",
       "      <td>25310.82</td>\n",
       "      <td>0</td>\n",
       "    </tr>\n",
       "    <tr>\n",
       "      <th>3184</th>\n",
       "      <td>3185</td>\n",
       "      <td>15631070</td>\n",
       "      <td>Gerasimova</td>\n",
       "      <td>667</td>\n",
       "      <td>Germany</td>\n",
       "      <td>Male</td>\n",
       "      <td>55</td>\n",
       "      <td>9.0</td>\n",
       "      <td>154393.43</td>\n",
       "      <td>1</td>\n",
       "      <td>1</td>\n",
       "      <td>1</td>\n",
       "      <td>137674.96</td>\n",
       "      <td>1</td>\n",
       "    </tr>\n",
       "    <tr>\n",
       "      <th>339</th>\n",
       "      <td>340</td>\n",
       "      <td>15807923</td>\n",
       "      <td>Young</td>\n",
       "      <td>716</td>\n",
       "      <td>Germany</td>\n",
       "      <td>Female</td>\n",
       "      <td>39</td>\n",
       "      <td>0.0</td>\n",
       "      <td>115301.31</td>\n",
       "      <td>1</td>\n",
       "      <td>1</td>\n",
       "      <td>0</td>\n",
       "      <td>43527.40</td>\n",
       "      <td>1</td>\n",
       "    </tr>\n",
       "    <tr>\n",
       "      <th>1191</th>\n",
       "      <td>1192</td>\n",
       "      <td>15686909</td>\n",
       "      <td>Lung</td>\n",
       "      <td>639</td>\n",
       "      <td>Germany</td>\n",
       "      <td>Male</td>\n",
       "      <td>27</td>\n",
       "      <td>3.0</td>\n",
       "      <td>150795.81</td>\n",
       "      <td>1</td>\n",
       "      <td>0</td>\n",
       "      <td>1</td>\n",
       "      <td>85208.93</td>\n",
       "      <td>0</td>\n",
       "    </tr>\n",
       "    <tr>\n",
       "      <th>6585</th>\n",
       "      <td>6586</td>\n",
       "      <td>15773804</td>\n",
       "      <td>Golubeva</td>\n",
       "      <td>625</td>\n",
       "      <td>France</td>\n",
       "      <td>Male</td>\n",
       "      <td>39</td>\n",
       "      <td>0.0</td>\n",
       "      <td>0.00</td>\n",
       "      <td>1</td>\n",
       "      <td>1</td>\n",
       "      <td>0</td>\n",
       "      <td>99800.87</td>\n",
       "      <td>0</td>\n",
       "    </tr>\n",
       "  </tbody>\n",
       "</table>\n",
       "</div>"
      ],
      "text/plain": [
       "      row_number  customer_id     surname  credit_score geography  gender  \\\n",
       "8073        8074     15601030       Patel           777   Germany  Female   \n",
       "8927        8928     15801605       Rizzo           626    France  Female   \n",
       "2754        2755     15579647   Oluchukwu           682    France    Male   \n",
       "5868        5869     15663817        Y?an           713    France    Male   \n",
       "3254        3255     15778368       Allan           552   Germany    Male   \n",
       "730          731     15812750      Ozioma           591    France    Male   \n",
       "3184        3185     15631070  Gerasimova           667   Germany    Male   \n",
       "339          340     15807923       Young           716   Germany  Female   \n",
       "1191        1192     15686909        Lung           639   Germany    Male   \n",
       "6585        6586     15773804    Golubeva           625    France    Male   \n",
       "\n",
       "      age  tenure    balance  num_of_products  has_cr_card  is_active_member  \\\n",
       "8073   34     5.0   96693.66                1            1                 1   \n",
       "8927   39     0.0       0.00                2            1                 1   \n",
       "2754   42     0.0       0.00                1            1                 1   \n",
       "5868   46     5.0       0.00                1            1                 1   \n",
       "3254   50     0.0  121175.56                1            1                 0   \n",
       "730    24     6.0  147360.00                1            1                 1   \n",
       "3184   55     9.0  154393.43                1            1                 1   \n",
       "339    39     0.0  115301.31                1            1                 0   \n",
       "1191   27     3.0  150795.81                1            0                 1   \n",
       "6585   39     0.0       0.00                1            1                 0   \n",
       "\n",
       "      estimated_salary  exited  \n",
       "8073         172618.52       0  \n",
       "8927          83295.09       0  \n",
       "2754         160828.98       0  \n",
       "5868          55701.62       0  \n",
       "3254         117505.07       1  \n",
       "730           25310.82       0  \n",
       "3184         137674.96       1  \n",
       "339           43527.40       1  \n",
       "1191          85208.93       0  \n",
       "6585          99800.87       0  "
      ]
     },
     "metadata": {},
     "output_type": "display_data"
    },
    {
     "name": "stdout",
     "output_type": "stream",
     "text": [
      "<class 'pandas.core.frame.DataFrame'>\n",
      "RangeIndex: 10000 entries, 0 to 9999\n",
      "Data columns (total 14 columns):\n",
      " #   Column            Non-Null Count  Dtype  \n",
      "---  ------            --------------  -----  \n",
      " 0   row_number        10000 non-null  int64  \n",
      " 1   customer_id       10000 non-null  int64  \n",
      " 2   surname           10000 non-null  object \n",
      " 3   credit_score      10000 non-null  int64  \n",
      " 4   geography         10000 non-null  object \n",
      " 5   gender            10000 non-null  object \n",
      " 6   age               10000 non-null  int64  \n",
      " 7   tenure            10000 non-null  float64\n",
      " 8   balance           10000 non-null  float64\n",
      " 9   num_of_products   10000 non-null  int64  \n",
      " 10  has_cr_card       10000 non-null  int64  \n",
      " 11  is_active_member  10000 non-null  int64  \n",
      " 12  estimated_salary  10000 non-null  float64\n",
      " 13  exited            10000 non-null  int64  \n",
      "dtypes: float64(3), int64(8), object(3)\n",
      "memory usage: 1.1+ MB\n"
     ]
    }
   ],
   "source": [
    "display(churn_data.sample(10))\n",
    "churn_data.info()\n"
   ]
  },
  {
   "attachments": {},
   "cell_type": "markdown",
   "metadata": {},
   "source": [
    "<h2>Data Scaling and Encoding</h2>"
   ]
  },
  {
   "attachments": {},
   "cell_type": "markdown",
   "metadata": {},
   "source": [
    "This code encodes fields that are categorical and cannot be dropped as they will be important to the machine learning model: gender and geography."
   ]
  },
  {
   "cell_type": "code",
   "execution_count": null,
   "metadata": {},
   "outputs": [],
   "source": [
    "#Encoding the data\n",
    "geography_dict = {'France': 0, 'Spain': 1, 'Germany': 2}\n",
    "churn_data['geography'] = churn_data['geography'].map(geography_dict)\n",
    "churn_data['gender'] = pd.get_dummies(churn_data['gender'], drop_first=True)\n",
    "display(churn_data.head())"
   ]
  },
  {
   "attachments": {},
   "cell_type": "markdown",
   "metadata": {},
   "source": [
    "This code splits the data into training, test, and validation sets"
   ]
  },
  {
   "cell_type": "code",
   "execution_count": null,
   "metadata": {},
   "outputs": [],
   "source": [
    "#Splitting the data\n",
    "churn_train1, churn_test = train_test_split (churn_data, test_size=0.20, train_size = 0.80, random_state=54321, shuffle=True)\n",
    "churn_train, churn_valid = train_test_split (churn_train1, test_size=0.25, train_size = 0.75, random_state=54321, shuffle=True)\n",
    "\n",
    "features_train = churn_train.drop(['exited', 'surname', 'row_number', 'customer_id'], axis=1)\n",
    "target_train = churn_train['exited']\n",
    "features_valid = churn_valid.drop(['exited', 'surname', 'row_number', 'customer_id'], axis=1)\n",
    "target_valid = churn_valid['exited']\n",
    "features_test = churn_test.drop(['exited', 'surname', 'row_number', 'customer_id'], axis=1)\n",
    "target_test = churn_test['exited']"
   ]
  },
  {
   "attachments": {},
   "cell_type": "markdown",
   "metadata": {},
   "source": [
    "This code scales the numeric data"
   ]
  },
  {
   "cell_type": "code",
   "execution_count": 900,
   "metadata": {},
   "outputs": [
    {
     "data": {
      "text/html": [
       "<div>\n",
       "<style scoped>\n",
       "    .dataframe tbody tr th:only-of-type {\n",
       "        vertical-align: middle;\n",
       "    }\n",
       "\n",
       "    .dataframe tbody tr th {\n",
       "        vertical-align: top;\n",
       "    }\n",
       "\n",
       "    .dataframe thead th {\n",
       "        text-align: right;\n",
       "    }\n",
       "</style>\n",
       "<table border=\"1\" class=\"dataframe\">\n",
       "  <thead>\n",
       "    <tr style=\"text-align: right;\">\n",
       "      <th></th>\n",
       "      <th>row_number</th>\n",
       "      <th>customer_id</th>\n",
       "      <th>surname</th>\n",
       "      <th>credit_score</th>\n",
       "      <th>geography</th>\n",
       "      <th>gender</th>\n",
       "      <th>age</th>\n",
       "      <th>tenure</th>\n",
       "      <th>balance</th>\n",
       "      <th>num_of_products</th>\n",
       "      <th>has_cr_card</th>\n",
       "      <th>is_active_member</th>\n",
       "      <th>estimated_salary</th>\n",
       "      <th>exited</th>\n",
       "    </tr>\n",
       "  </thead>\n",
       "  <tbody>\n",
       "    <tr>\n",
       "      <th>0</th>\n",
       "      <td>1</td>\n",
       "      <td>15634602</td>\n",
       "      <td>Hargrave</td>\n",
       "      <td>619</td>\n",
       "      <td>0</td>\n",
       "      <td>0</td>\n",
       "      <td>42</td>\n",
       "      <td>2.0</td>\n",
       "      <td>0.00</td>\n",
       "      <td>1</td>\n",
       "      <td>1</td>\n",
       "      <td>1</td>\n",
       "      <td>101348.88</td>\n",
       "      <td>1</td>\n",
       "    </tr>\n",
       "    <tr>\n",
       "      <th>1</th>\n",
       "      <td>2</td>\n",
       "      <td>15647311</td>\n",
       "      <td>Hill</td>\n",
       "      <td>608</td>\n",
       "      <td>1</td>\n",
       "      <td>0</td>\n",
       "      <td>41</td>\n",
       "      <td>1.0</td>\n",
       "      <td>83807.86</td>\n",
       "      <td>1</td>\n",
       "      <td>0</td>\n",
       "      <td>1</td>\n",
       "      <td>112542.58</td>\n",
       "      <td>0</td>\n",
       "    </tr>\n",
       "    <tr>\n",
       "      <th>2</th>\n",
       "      <td>3</td>\n",
       "      <td>15619304</td>\n",
       "      <td>Onio</td>\n",
       "      <td>502</td>\n",
       "      <td>0</td>\n",
       "      <td>0</td>\n",
       "      <td>42</td>\n",
       "      <td>0.0</td>\n",
       "      <td>159660.80</td>\n",
       "      <td>3</td>\n",
       "      <td>1</td>\n",
       "      <td>0</td>\n",
       "      <td>113931.57</td>\n",
       "      <td>1</td>\n",
       "    </tr>\n",
       "    <tr>\n",
       "      <th>3</th>\n",
       "      <td>4</td>\n",
       "      <td>15701354</td>\n",
       "      <td>Boni</td>\n",
       "      <td>699</td>\n",
       "      <td>0</td>\n",
       "      <td>0</td>\n",
       "      <td>39</td>\n",
       "      <td>0.0</td>\n",
       "      <td>0.00</td>\n",
       "      <td>2</td>\n",
       "      <td>0</td>\n",
       "      <td>0</td>\n",
       "      <td>93826.63</td>\n",
       "      <td>0</td>\n",
       "    </tr>\n",
       "    <tr>\n",
       "      <th>4</th>\n",
       "      <td>5</td>\n",
       "      <td>15737888</td>\n",
       "      <td>Mitchell</td>\n",
       "      <td>850</td>\n",
       "      <td>1</td>\n",
       "      <td>0</td>\n",
       "      <td>43</td>\n",
       "      <td>2.0</td>\n",
       "      <td>125510.82</td>\n",
       "      <td>1</td>\n",
       "      <td>1</td>\n",
       "      <td>1</td>\n",
       "      <td>79084.10</td>\n",
       "      <td>0</td>\n",
       "    </tr>\n",
       "  </tbody>\n",
       "</table>\n",
       "</div>"
      ],
      "text/plain": [
       "   row_number  customer_id   surname  credit_score  geography  gender  age  \\\n",
       "0           1     15634602  Hargrave           619          0       0   42   \n",
       "1           2     15647311      Hill           608          1       0   41   \n",
       "2           3     15619304      Onio           502          0       0   42   \n",
       "3           4     15701354      Boni           699          0       0   39   \n",
       "4           5     15737888  Mitchell           850          1       0   43   \n",
       "\n",
       "   tenure    balance  num_of_products  has_cr_card  is_active_member  \\\n",
       "0     2.0       0.00                1            1                 1   \n",
       "1     1.0   83807.86                1            0                 1   \n",
       "2     0.0  159660.80                3            1                 0   \n",
       "3     0.0       0.00                2            0                 0   \n",
       "4     2.0  125510.82                1            1                 1   \n",
       "\n",
       "   estimated_salary  exited  \n",
       "0         101348.88       1  \n",
       "1         112542.58       0  \n",
       "2         113931.57       1  \n",
       "3          93826.63       0  \n",
       "4          79084.10       0  "
      ]
     },
     "metadata": {},
     "output_type": "display_data"
    },
    {
     "name": "stdout",
     "output_type": "stream",
     "text": [
      "\n"
     ]
    },
    {
     "data": {
      "text/html": [
       "<div>\n",
       "<style scoped>\n",
       "    .dataframe tbody tr th:only-of-type {\n",
       "        vertical-align: middle;\n",
       "    }\n",
       "\n",
       "    .dataframe tbody tr th {\n",
       "        vertical-align: top;\n",
       "    }\n",
       "\n",
       "    .dataframe thead th {\n",
       "        text-align: right;\n",
       "    }\n",
       "</style>\n",
       "<table border=\"1\" class=\"dataframe\">\n",
       "  <thead>\n",
       "    <tr style=\"text-align: right;\">\n",
       "      <th></th>\n",
       "      <th>credit_score</th>\n",
       "      <th>geography</th>\n",
       "      <th>gender</th>\n",
       "      <th>age</th>\n",
       "      <th>tenure</th>\n",
       "      <th>balance</th>\n",
       "      <th>num_of_products</th>\n",
       "      <th>has_cr_card</th>\n",
       "      <th>is_active_member</th>\n",
       "      <th>estimated_salary</th>\n",
       "    </tr>\n",
       "  </thead>\n",
       "  <tbody>\n",
       "    <tr>\n",
       "      <th>7296</th>\n",
       "      <td>663</td>\n",
       "      <td>2</td>\n",
       "      <td>0</td>\n",
       "      <td>-0.183892</td>\n",
       "      <td>-0.721341</td>\n",
       "      <td>1.254134</td>\n",
       "      <td>-0.920246</td>\n",
       "      <td>1</td>\n",
       "      <td>0</td>\n",
       "      <td>0.319048</td>\n",
       "    </tr>\n",
       "    <tr>\n",
       "      <th>1437</th>\n",
       "      <td>670</td>\n",
       "      <td>0</td>\n",
       "      <td>0</td>\n",
       "      <td>-0.750537</td>\n",
       "      <td>-0.721341</td>\n",
       "      <td>-1.235448</td>\n",
       "      <td>-0.920246</td>\n",
       "      <td>0</td>\n",
       "      <td>1</td>\n",
       "      <td>-0.422309</td>\n",
       "    </tr>\n",
       "    <tr>\n",
       "      <th>4734</th>\n",
       "      <td>590</td>\n",
       "      <td>0</td>\n",
       "      <td>0</td>\n",
       "      <td>1.421602</td>\n",
       "      <td>0.547695</td>\n",
       "      <td>-1.235448</td>\n",
       "      <td>0.824296</td>\n",
       "      <td>1</td>\n",
       "      <td>1</td>\n",
       "      <td>-0.115623</td>\n",
       "    </tr>\n",
       "    <tr>\n",
       "      <th>7474</th>\n",
       "      <td>704</td>\n",
       "      <td>0</td>\n",
       "      <td>1</td>\n",
       "      <td>1.043838</td>\n",
       "      <td>-0.721341</td>\n",
       "      <td>1.416595</td>\n",
       "      <td>-0.920246</td>\n",
       "      <td>1</td>\n",
       "      <td>0</td>\n",
       "      <td>0.354911</td>\n",
       "    </tr>\n",
       "    <tr>\n",
       "      <th>5625</th>\n",
       "      <td>508</td>\n",
       "      <td>0</td>\n",
       "      <td>0</td>\n",
       "      <td>1.988246</td>\n",
       "      <td>1.499471</td>\n",
       "      <td>1.061101</td>\n",
       "      <td>-0.920246</td>\n",
       "      <td>1</td>\n",
       "      <td>1</td>\n",
       "      <td>0.508414</td>\n",
       "    </tr>\n",
       "  </tbody>\n",
       "</table>\n",
       "</div>"
      ],
      "text/plain": [
       "      credit_score  geography  gender       age    tenure   balance  \\\n",
       "7296           663          2       0 -0.183892 -0.721341  1.254134   \n",
       "1437           670          0       0 -0.750537 -0.721341 -1.235448   \n",
       "4734           590          0       0  1.421602  0.547695 -1.235448   \n",
       "7474           704          0       1  1.043838 -0.721341  1.416595   \n",
       "5625           508          0       0  1.988246  1.499471  1.061101   \n",
       "\n",
       "      num_of_products  has_cr_card  is_active_member  estimated_salary  \n",
       "7296        -0.920246            1                 0          0.319048  \n",
       "1437        -0.920246            0                 1         -0.422309  \n",
       "4734         0.824296            1                 1         -0.115623  \n",
       "7474        -0.920246            1                 0          0.354911  \n",
       "5625        -0.920246            1                 1          0.508414  "
      ]
     },
     "metadata": {},
     "output_type": "display_data"
    }
   ],
   "source": [
    "#Scaling the data\n",
    "numeric = ['age', 'tenure', 'balance', 'num_of_products', 'estimated_salary']\n",
    "scaler = StandardScaler()\n",
    "scaler.fit(features_train[numeric])\n",
    "features_train[numeric] = scaler.transform(features_train[numeric])\n",
    "features_valid[numeric] = scaler.transform(features_valid[numeric])\n",
    "features_test[numeric] = scaler.transform(features_test[numeric])\n",
    "display(features_train.head())"
   ]
  },
  {
   "attachments": {},
   "cell_type": "markdown",
   "metadata": {},
   "source": [
    "<h2>Determining the Machine Learning Model</h2>"
   ]
  },
  {
   "attachments": {},
   "cell_type": "markdown",
   "metadata": {},
   "source": [
    "For the decision tree, I noted that the max depth's F1 score peaked at six and then started going down again; as a result, I did not test any higher max depths. I then wrote the model with a max depth of six."
   ]
  },
  {
   "cell_type": "code",
   "execution_count": 923,
   "metadata": {},
   "outputs": [
    {
     "name": "stdout",
     "output_type": "stream",
     "text": [
      "max_depth = 1 , F1 Score=0.0\n",
      "max_depth = 2 , F1 Score=0.5049928673323822\n",
      "max_depth = 3 , F1 Score=0.5424200278164116\n",
      "max_depth = 4 , F1 Score=0.5345345345345345\n",
      "max_depth = 5 , F1 Score=0.5714285714285714\n",
      "max_depth = 6 , F1 Score=0.5901639344262296\n",
      "max_depth = 7 , F1 Score=0.5863453815261044\n",
      "max_depth = 8 , F1 Score=0.5764075067024129\n",
      "max_depth = 9 , F1 Score=0.5840938722294655\n"
     ]
    }
   ],
   "source": [
    "for depth in range(1, 10):\n",
    "    model = DecisionTreeClassifier(random_state=54321, max_depth=depth)\n",
    "    model.fit(features_train, target_train)\n",
    "    predictions_valid = model.predict(features_valid)\n",
    "    decision_f1_score = f1_score(target_valid, predictions_valid)\n",
    "    print('max_depth =', depth, ', F1 Score=', end='')\n",
    "    print(decision_f1_score)"
   ]
  },
  {
   "cell_type": "code",
   "execution_count": 924,
   "metadata": {},
   "outputs": [
    {
     "name": "stdout",
     "output_type": "stream",
     "text": [
      "F1 Score=0.5901639344262296\n"
     ]
    }
   ],
   "source": [
    "decision_model = DecisionTreeClassifier(random_state=54321, max_depth=6)\n",
    "decision_model.fit(features_train, target_train)\n",
    "predictions_valid = decision_model.predict(features_valid)\n",
    "decision_f1_score = f1_score(target_valid, predictions_valid)\n",
    "print('F1 Score=', end='')\n",
    "print(decision_f1_score)"
   ]
  },
  {
   "attachments": {},
   "cell_type": "markdown",
   "metadata": {},
   "source": [
    "For the random forest classifier, I checked by the range of 1 through 300 increments of ten, then narrowed the range to find the best number of estimators. I found the answer was 71 through this method."
   ]
  },
  {
   "cell_type": "code",
   "execution_count": 925,
   "metadata": {},
   "outputs": [
    {
     "name": "stdout",
     "output_type": "stream",
     "text": [
      "F1 score of the best model on the validation set (n_estimators = 71): 0.5851648351648352\n"
     ]
    }
   ],
   "source": [
    "best_score = 0\n",
    "best_est = 0\n",
    "\n",
    "for est in range(60, 86):\n",
    "    random_model = RandomForestClassifier(random_state=54321, n_estimators=est)\n",
    "    random_model.fit(features_train, target_train)\n",
    "    predictions_valid = random_model.predict(features_valid)\n",
    "    random_f1_score = f1_score(target_valid, predictions_valid)\n",
    "    if random_f1_score > best_score:\n",
    "        best_score = random_f1_score\n",
    "        best_est = est\n",
    "\n",
    "print(\"F1 score of the best model on the validation set (n_estimators = {}): {}\".format(best_est, best_score))\n"
   ]
  },
  {
   "attachments": {},
   "cell_type": "markdown",
   "metadata": {},
   "source": [
    "The logistic regression model worked the most quickly, but had the lowest F1 score."
   ]
  },
  {
   "cell_type": "code",
   "execution_count": 926,
   "metadata": {},
   "outputs": [
    {
     "name": "stdout",
     "output_type": "stream",
     "text": [
      "F1 score of the logistic regression model on the validation set: 0.3018867924528302\n"
     ]
    }
   ],
   "source": [
    "logistic_model =  LogisticRegression(random_state=54321, solver='liblinear')\n",
    "logistic_model.fit(features_train, target_train)\n",
    "predictions_valid = logistic_model.predict(features_valid)\n",
    "logistic_f1_score = f1_score(\n",
    "    target_valid, predictions_valid \n",
    ")  \n",
    " \n",
    "\n",
    "print(\n",
    "    \"F1 score of the logistic regression model on the validation set:\",\n",
    "    logistic_f1_score,\n",
    ")\n"
   ]
  },
  {
   "attachments": {},
   "cell_type": "markdown",
   "metadata": {},
   "source": [
    "<h2>Testing and Balancing the Model</h2>"
   ]
  },
  {
   "attachments": {},
   "cell_type": "markdown",
   "metadata": {},
   "source": [
    "I decided to use the Random Forest model because, although the Decision Tree model had slightly higher accuracy, the F1 scores were better for the Random Forest model, and the accuracy difference in training and validation between the two models was negligible."
   ]
  },
  {
   "attachments": {},
   "cell_type": "markdown",
   "metadata": {},
   "source": [
    "This code finds the accuracy and F1 score for the test model before any balancing. The F1 score is already above the required 0.59, but that just means that it can be better."
   ]
  },
  {
   "cell_type": "code",
   "execution_count": 927,
   "metadata": {},
   "outputs": [
    {
     "name": "stdout",
     "output_type": "stream",
     "text": [
      "Accuracy: 0.8725\n",
      "F1 Score: 0.6009389671361502\n"
     ]
    }
   ],
   "source": [
    "test_model = RandomForestClassifier(random_state=54321, n_estimators=71)\n",
    "test_model_fit = test_model.fit(features_train, target_train)\n",
    "\n",
    "predictions_test = test_model.predict(features_test)\n",
    "target_test = target_test.reset_index(drop=True)\n",
    "\n",
    "correct = 0\n",
    "for i in range(len(target_test)):\n",
    "    if target_test[i] == predictions_test[i]:\n",
    "        correct += 1\n",
    "accuracy = correct / len(target_test)\n",
    "\n",
    "print('Accuracy:', accuracy)\n",
    "\n",
    "imbalanced_f1 = f1_score(target_test, predictions_test)\n",
    "print('F1 Score:', imbalanced_f1)"
   ]
  },
  {
   "attachments": {},
   "cell_type": "markdown",
   "metadata": {},
   "source": [
    "This code balances the class weights for the test set. However, the F1 score is not where I would hope it would be."
   ]
  },
  {
   "cell_type": "code",
   "execution_count": 928,
   "metadata": {},
   "outputs": [
    {
     "name": "stdout",
     "output_type": "stream",
     "text": [
      "Accuracy: 0.8475\n",
      "F1 Score: 0.5685997171145686\n"
     ]
    }
   ],
   "source": [
    "balanced_test_model = RandomForestClassifier(random_state=54321, n_estimators=71, class_weight='balanced')\n",
    "balanced_test_model_fit = balanced_test_model.fit(features_train, target_train)\n",
    "\n",
    "balanced_predictions_valid = balanced_test_model.predict(features_valid)\n",
    "target_valid = target_valid.reset_index(drop=True)\n",
    "\n",
    "correct = 0\n",
    "for i in range(len(target_valid)):\n",
    "    if target_valid[i] == balanced_predictions_valid[i]:\n",
    "        correct += 1\n",
    "accuracy = correct / len(target_valid)\n",
    "\n",
    "print('Accuracy:', accuracy)\n",
    "\n",
    "balanced_f1 = f1_score(target_valid, balanced_predictions_valid)\n",
    "print('F1 Score:', balanced_f1)\n"
   ]
  },
  {
   "attachments": {},
   "cell_type": "markdown",
   "metadata": {},
   "source": [
    "These two functions are to upsample and downsample the data as needed."
   ]
  },
  {
   "cell_type": "code",
   "execution_count": 929,
   "metadata": {},
   "outputs": [],
   "source": [
    "def downsample(features, target, fraction):\n",
    "    features_zeros = features[target == 0]\n",
    "    features_ones = features[target == 1]\n",
    "    target_zeros = target[target == 0]\n",
    "    target_ones = target[target == 1]\n",
    "\n",
    "    features_downsampled = pd.concat(\n",
    "        [features_zeros.sample(frac=fraction, random_state=54321)]\n",
    "        + [features_ones]\n",
    "    )\n",
    "    target_downsampled = pd.concat(\n",
    "        [target_zeros.sample(frac=fraction, random_state=54321)]\n",
    "        + [target_ones]\n",
    "    )\n",
    "\n",
    "    features_downsampled, target_downsampled = shuffle(\n",
    "        features_downsampled, target_downsampled, random_state=54321\n",
    "    )\n",
    "\n",
    "    return features_downsampled, target_downsampled\n",
    "\n",
    "\n",
    "features_downsampled, target_downsampled = downsample(\n",
    "    features_train, target_train, 0.25\n",
    ")"
   ]
  },
  {
   "cell_type": "code",
   "execution_count": 930,
   "metadata": {},
   "outputs": [],
   "source": [
    "def upsample(features, target, repeat):\n",
    "    features_zeros = features[target == 0]\n",
    "    features_ones = features[target == 1]\n",
    "    target_zeros = target[target == 0]\n",
    "    target_ones = target[target == 1]\n",
    "\n",
    "    features_upsampled = pd.concat([features_zeros] + [features_ones] * repeat)\n",
    "    target_upsampled = pd.concat([target_zeros] + [target_ones] * repeat)\n",
    "\n",
    "    features_upsampled, target_upsampled = shuffle(\n",
    "        features_upsampled, target_upsampled, random_state=54321\n",
    "    )\n",
    "\n",
    "    return features_upsampled, target_upsampled\n",
    "\n",
    "\n",
    "features_upsampled, target_upsampled = upsample(\n",
    "    features_train, target_train, 4\n",
    ")\n"
   ]
  },
  {
   "attachments": {},
   "cell_type": "markdown",
   "metadata": {},
   "source": [
    "This code calls the downsample function and calculates the resulting accuracy and F1 score. The F1 score is higher than the imbalanced model, but the accuracy is lower."
   ]
  },
  {
   "cell_type": "code",
   "execution_count": 931,
   "metadata": {},
   "outputs": [
    {
     "name": "stdout",
     "output_type": "stream",
     "text": [
      "Accuracy: 0.7785\n",
      "F1 Score: 0.6048171275646744\n"
     ]
    }
   ],
   "source": [
    "downsample_test_model = RandomForestClassifier(random_state=54321, n_estimators=71)\n",
    "downsample_test_model_fit = downsample_test_model.fit(features_downsampled, target_downsampled)\n",
    "\n",
    "downsample_predictions_valid = downsample_test_model.predict(features_valid)\n",
    "target_valid = target_valid.reset_index(drop=True)\n",
    "\n",
    "correct = 0\n",
    "for i in range(len(target_valid)):\n",
    "    if target_valid[i] == downsample_predictions_valid[i]:\n",
    "        correct += 1\n",
    "accuracy = correct / len(target_valid)\n",
    "\n",
    "print('Accuracy:', accuracy)\n",
    "\n",
    "downsample_f1 = f1_score(target_valid, downsample_predictions_valid)\n",
    "print('F1 Score:', downsample_f1)"
   ]
  },
  {
   "attachments": {},
   "cell_type": "markdown",
   "metadata": {},
   "source": [
    "This code calls the upsample function and calculates the resulting accuracy and F1 score. The F1 score is higher than the imbalanced model, and the accuracy is higher than any of the imbalanced or balanced models thus far. This is the best model to use."
   ]
  },
  {
   "cell_type": "code",
   "execution_count": 932,
   "metadata": {},
   "outputs": [
    {
     "name": "stdout",
     "output_type": "stream",
     "text": [
      "Accuracy: 0.8345\n",
      "F1 Score: 0.5968331303288673\n"
     ]
    }
   ],
   "source": [
    "upsample_test_model = RandomForestClassifier(random_state=54321, n_estimators=71)\n",
    "upsample_test_model_fit = upsample_test_model.fit(features_upsampled, target_upsampled)\n",
    "\n",
    "upsample_predictions_valid = upsample_test_model.predict(features_valid)\n",
    "target_valid = target_valid.reset_index(drop=True)\n",
    "\n",
    "correct = 0\n",
    "for i in range(len(target_valid)):\n",
    "    if target_valid[i] == upsample_predictions_valid[i]:\n",
    "        correct += 1\n",
    "accuracy = correct / len(target_valid)\n",
    "\n",
    "print('Accuracy:', accuracy)\n",
    "\n",
    "upsample_f1 = f1_score(target_valid, upsample_predictions_valid)\n",
    "print('F1 Score:', upsample_f1)\n",
    "\n"
   ]
  },
  {
   "cell_type": "code",
   "execution_count": 936,
   "metadata": {},
   "outputs": [
    {
     "name": "stdout",
     "output_type": "stream",
     "text": [
      "Accuracy: 0.8675\n",
      "F1 Score: 0.6283309957924264\n"
     ]
    }
   ],
   "source": [
    "final_test_model = RandomForestClassifier(random_state=54321, n_estimators=71)\n",
    "final_test_model_fit = final_test_model.fit(features_upsampled, target_upsampled)\n",
    "\n",
    "final_predictions_test = upsample_test_model.predict(features_test)\n",
    "target_test = target_test.reset_index(drop=True)\n",
    "\n",
    "correct = 0\n",
    "for i in range(len(target_test)):\n",
    "    if target_test[i] == final_predictions_test[i]:\n",
    "        correct += 1\n",
    "accuracy = correct / len(target_test)\n",
    "\n",
    "print('Accuracy:', accuracy)\n",
    "\n",
    "final_test_f1 = f1_score(target_test, final_predictions_test)\n",
    "print('F1 Score:', final_test_f1)"
   ]
  },
  {
   "attachments": {},
   "cell_type": "markdown",
   "metadata": {},
   "source": [
    "<h2>AUC-ROC Score and Curve</h2>"
   ]
  },
  {
   "attachments": {},
   "cell_type": "markdown",
   "metadata": {},
   "source": [
    "This function calculates the ROC-AUC score and plots the corresponding curve for the given model."
   ]
  },
  {
   "cell_type": "code",
   "execution_count": 934,
   "metadata": {},
   "outputs": [],
   "source": [
    "def scores_auc (model_name, features_name, target_name):\n",
    "    probabilities_valid = model_name.predict_proba(features_name)\n",
    "    probabilities_one_valid = probabilities_valid[:, 1]\n",
    "    auc_roc = roc_auc_score(target_name, probabilities_one_valid)\n",
    "    print(auc_roc)\n",
    "    \n",
    "    fpr, tpr, thresholds = roc_curve(target_valid, probabilities_one_valid) \n",
    "\n",
    "    plt.figure()\n",
    "    plt.plot(fpr, tpr)\n",
    "    plt.plot([0, 1], [0, 1], linestyle='--')\n",
    "    plt.xlim([0.0, 1.0])\n",
    "    plt.ylim([0.0, 1.0])\n",
    "    plt.xlabel('False Positive Rate')\n",
    "    plt.ylabel('True Positive Rate')\n",
    "    plt.title('ROC curve')\n",
    "    plt.show() \n",
    "    return"
   ]
  },
  {
   "attachments": {},
   "cell_type": "markdown",
   "metadata": {},
   "source": [
    "This code calls the above function for each model, first the unbalanced model and then each attempt at balancing, then the final testing model. It displays that the scores are still pretty far from a random model. I noted that the final curve looks different than expected and I am not sure why this is the case."
   ]
  },
  {
   "cell_type": "code",
   "execution_count": 937,
   "metadata": {},
   "outputs": [
    {
     "name": "stdout",
     "output_type": "stream",
     "text": [
      "0.8451997862441115\n"
     ]
    },
    {
     "data": {
      "image/png": "[encoded data removed]",
      "text/plain": [
       "<Figure size 640x480 with 1 Axes>"
      ]
     },
     "metadata": {},
     "output_type": "display_data"
    },
    {
     "name": "stdout",
     "output_type": "stream",
     "text": [
      "0.8467172787946027\n"
     ]
    },
    {
     "data": {
      "image/png": "[encoded data removed]",
      "text/plain": [
       "<Figure size 640x480 with 1 Axes>"
      ]
     },
     "metadata": {},
     "output_type": "display_data"
    },
    {
     "name": "stdout",
     "output_type": "stream",
     "text": [
      "0.8526449386903967\n"
     ]
    },
    {
     "data": {
      "image/png": "[encoded data removed]",
      "text/plain": [
       "<Figure size 640x480 with 1 Axes>"
      ]
     },
     "metadata": {},
     "output_type": "display_data"
    },
    {
     "name": "stdout",
     "output_type": "stream",
     "text": [
      "0.8483821641621989\n"
     ]
    },
    {
     "data": {
      "image/png": "[encoded data removed]",
      "text/plain": [
       "<Figure size 640x480 with 1 Axes>"
      ]
     },
     "metadata": {},
     "output_type": "display_data"
    },
    {
     "name": "stdout",
     "output_type": "stream",
     "text": [
      "0.8634233158146202\n"
     ]
    },
    {
     "data": {
      "image/png": "[encoded data removed]",
      "text/plain": [
       "<Figure size 640x480 with 1 Axes>"
      ]
     },
     "metadata": {},
     "output_type": "display_data"
    }
   ],
   "source": [
    "scores_auc(test_model, features_valid, target_valid)\n",
    "scores_auc(balanced_test_model, features_valid, target_valid)\n",
    "scores_auc(downsample_test_model, features_valid, target_valid)\n",
    "scores_auc(upsample_test_model, features_valid, target_valid)\n",
    "scores_auc(final_test_model, features_test, target_test)\n"
   ]
  },
  {
   "attachments": {},
   "cell_type": "markdown",
   "metadata": {},
   "source": [
    "<h1>Conclusion</h1>\n",
    "\n",
    "I would recommend using the upsample model to predict the future loss of customers for Beta Bank, as that has the highest accuracy and F1 score; however, the model could perhaps be tweaked even further after learning more to improve the AUC-ROC score. There could also be other factors to take into account that were not a part of the provided data that are causing customers to leave the bank. This would not be reflected in the model and would impact the accuracy and reliability of the model. Further investigation may be needed."
   ]
  }
 ],
 "metadata": {
  "kernelspec": {
   "display_name": "base",
   "language": "python",
   "name": "python3"
  },
  "language_info": {
   "codemirror_mode": {
    "name": "ipython",
    "version": 3
   },
   "file_extension": ".py",
   "mimetype": "text/x-python",
   "name": "python",
   "nbconvert_exporter": "python",
   "pygments_lexer": "ipython3",
   "version": "3.9.13"
  },
  "orig_nbformat": 4
 },
 "nbformat": 4,
 "nbformat_minor": 2
}
